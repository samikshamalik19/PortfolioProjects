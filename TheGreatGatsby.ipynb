{
 "cells": [
  {
   "cell_type": "markdown",
   "metadata": {},
   "source": [
    "#1. Tools for text processing\n",
    "\n",
    "What are the most frequent words in F. Scott Fitzgerald's novel, The Great Gatsby, and how often do they occur?\n",
    "\n",
    "In this notebook, we'll scrape the novel The Great Gataby from the website Project Gutenberg (which contains a large corpus of books) using the Python package requests. Then we'll extract words from this web data using BeautifulSoup. Finally, we'll dive into analyzing the distribution of words using the Natural Language ToolKit (nltk) and Counter.\n",
    "\n",
    "The Data Science pipeline we'll build in this notebook can be used to visualize the word frequency distributions of any novel that you can find on Project Gutenberg. The natural language processing tools used here apply to much of the data that data scientists encounter as a vast proportion of the world's data is unstructured data and includes a great deal of text.\n",
    "\n",
    "Let's start by loading in the three main Python packages we are going to use."
   ]
  },
  {
   "cell_type": "code",
   "execution_count": 17,
   "metadata": {
    "collapsed": true
   },
   "outputs": [],
   "source": [
    "# Importing requests, BeautifulSoup, nltk, and Counter\n",
    "import requests\n",
    "from bs4 import BeautifulSoup\n",
    "import nltk\n",
    "from collections import Counter"
   ]
  },
  {
   "cell_type": "markdown",
   "metadata": {},
   "source": [
    "#2. Request The Great Gatsby\n",
    "To analyze The Great Gatsby, we need to get the contents of The Great Gatsby from somewhere. Luckily, the text is freely available online at Project Gutenberg as an HTML file: https://www.gutenberg.org/cache/epub/64317/pg64317-images.html.\n",
    "\n",
    "Note that HTML stands for Hypertext Markup Language and is the standard markup language for the web.\n",
    "\n",
    "To fetch the HTML file with The Great Gatsby we're going to use the request package to make a GET request for the website, which means we're getting data from it. This is what you're doing through a browser when visiting a webpage, but now we're getting the requested page directly into Python instead."
   ]
  },
  {
   "cell_type": "code",
   "execution_count": 18,
   "metadata": {},
   "outputs": [
    {
     "name": "stdout",
     "output_type": "stream",
     "text": [
      "<!DOCTYPE html>\r\n",
      "<html lang=\"en\">\r\n",
      "<head>\r\n",
      "<meta charset=\"utf-8\"><style>\r\n",
      "#pg-header div, #pg-footer div {\r\n",
      "    all: initial;\r\n",
      "    display: block;\r\n",
      "    margin-top: 1em;\r\n",
      "    margin-bottom: 1em;\r\n",
      "    margin-left: 2em;\r\n",
      "}\r\n",
      "#pg-footer div.agate {\r\n",
      "    font-size: 90%;\r\n",
      "    margin-top: 0;\r\n",
      "    margin-bottom: 0;\r\n",
      "    text-align: center;\r\n",
      "}\r\n",
      "#pg-footer li {\r\n",
      "    all: initial;\r\n",
      "    display: block;\r\n",
      "    margin-top: 1em;\r\n",
      "    margin-bottom: 1em;\r\n",
      "    text-indent: -0.6em;\r\n",
      "}\r\n",
      "#pg-footer div.secthead {\r\n",
      "    font-size: 110%;\r\n",
      "    font-weight: bold;\r\n",
      "}\r\n",
      "#pg-footer #project-gutenberg-license {\r\n",
      "    font-size: 110%;\r\n",
      "    margin-top: 0;\r\n",
      "    margin-bottom: 0;\r\n",
      "    text-align: center;\r\n",
      "}\r\n",
      "#pg-header-heading {\r\n",
      "    all: inherit;\r\n",
      "    text-align: center;\r\n",
      "    font-size: 120%;\r\n",
      "    font-weight:bold;\r\n",
      "}\r\n",
      "#pg-footer-heading {\r\n",
      "    all: inherit;\r\n",
      "    text-align: center;\r\n",
      "    font-size: 120%;\r\n",
      "    font-weight: normal;\r\n",
      "    margin-top: 0;\r\n",
      "    margin-bottom: 0;\r\n",
      "}\r\n",
      "#pg-header #pg-machine-header p {\r\n",
      "    text-indent: -4em;\r\n",
      "    margin-left: 4em;\r\n",
      "    margin-top: 1em;\r\n",
      "    margin-bottom: 0;\r\n",
      "    font-size: medium\r\n",
      "}\r\n",
      "#pg-header #pg-header-authlist {\r\n",
      "    all: initial;\r\n",
      "    margin-top: 0;\r\n",
      "    margin-bottom: 0;\r\n",
      "}\r\n",
      "#pg-header #pg-machine-header strong {\r\n",
      "    font-weight: normal;\r\n",
      "}\r\n",
      "#pg-header #pg-start-separator, #pg-footer #pg-end-separator {\r\n",
      "    margin-bottom: 3em;\r\n",
      "    margin-left: 0;\r\n",
      "    margin-right: auto;\r\n",
      "    margin-top: 2em;\r\n",
      "    text-align: center\r\n",
      "}\r\n",
      "\r\n",
      "    .xhtml_center {text-align: center; display: block;}\r\n",
      "    .xhtml_center table {\r\n",
      "        display: table;\r\n",
      "        text-align: left;\r\n",
      "        margin-left: auto;\r\n",
      "        margin-right: auto;\r\n",
      "        }</style><title>The Project Gutenberg eBook of The Great Gatsby</title>\r\n",
      "<link href=\"images/cover.jpg\" rel=\"icon\" type=\"image/x-cover\" id=\"id-7039756354927248364\">\r\n",
      "<style>body {\r\n",
      "    margin-left: 20%;\r\n",
      "    margin-right: 20%;\r\n",
      "    text-align: justify\r\n",
      "    }\r\n",
      "p {\r\n",
      "    margin: 0;\r\n",
      "    text-indent: 1em\r\n",
      "    }\r\n",
      "hr {\r\n",
      "    border: none;\r\n",
      "    \n"
     ]
    }
   ],
   "source": [
    "# Getting The Great Gatsby HTML  \n",
    "r = requests.get('https://www.gutenberg.org/cache/epub/64317/pg64317-images.html')\n",
    "\n",
    "# Setting the correct text encoding of the HTML page\n",
    "r.encoding = 'utf-8'\n",
    "\n",
    "# Extracting the HTML from the request object\n",
    "html = r.text\n",
    "\n",
    "# Printing the first 2000 characters in html\n",
    "print(html[0:2000])"
   ]
  },
  {
   "cell_type": "markdown",
   "metadata": {},
   "source": [
    "#3. Get the text from the HTML\n",
    "This HTML is not quite what we want. However, it does contain what we want: the text of The Great Gatsby. What we need to do now is wrangle this HTML to extract the text of the novel. For this we'll use the package BeautifulSoup.\n",
    "\n",
    "Firstly, a word on the name of the package: Beautiful Soup? In web development, the term \"tag soup\" refers to structurally or syntactically incorrect HTML code written for a web page. What Beautiful Soup does best is to make tag soup beautiful again and to extract information from it with ease! In fact, the main object created and queried when using this package is called BeautifulSoup."
   ]
  },
  {
   "cell_type": "code",
   "execution_count": 19,
   "metadata": {},
   "outputs": [
    {
     "name": "stdout",
     "output_type": "stream",
     "text": [
      "r lovely face, as if she had asserted her membership in a rather distinguished secret society to which she and Tom belonged.\r\n",
      "\n",
      "\n",
      "\r\n",
      "Inside, the crimson room bloomed with light. Tom and Miss Baker sat at either end of the long couch and she read aloud to him from the Saturday Evening Post—the words, murmurous and uninflected, running together in a soothing tune. The lamplight, bright on his boots and dull on the autumn-leaf yellow of her hair, glinted along the paper as she turned a page with a flutter of slender muscles in her arms.\r\n",
      "\n",
      "\r\n",
      "When we came in she held us silent for a moment with a lifted hand.\r\n",
      "\n",
      "\r\n",
      "“To be continued,” she said, tossing the magazine on the table, “in our very next issue.”\r\n",
      "\n",
      "\r\n",
      "Her body asserted itself with a restless movement of her knee, and she stood up.\r\n",
      "\n",
      "\r\n",
      "“Ten o’clock,” she remarked, apparently finding the time on the ceiling. “Time for this good girl to go to bed.”\r\n",
      "\n",
      "\r\n",
      "“Jordan’s going to play in the tournament tomorrow,” explained Daisy, “over at Westchester.”\r\n",
      "\n",
      "\r\n",
      "“Oh—you’re Jordan Baker.”\r\n",
      "\n",
      "\r\n",
      "I knew now why her face was familiar—its pleasing contemptuous expression had looked out at me from many rotogravure pictures of the sporting life at Asheville and Hot Springs and Palm Beach. I had heard some story of her too, a critical, unpleasant story, but what it was I had forgotten long ago.\r\n",
      "\n",
      "\r\n",
      "“Good night,” she said softly. “Wake me at eight, won’t you.”\r\n",
      "\n",
      "\r\n",
      "“If you’ll get up.”\r\n",
      "\n",
      "\r\n",
      "“I will. Good night, Mr. Carraway. See you anon.”\r\n",
      "\n",
      "\r\n",
      "“Of course you will,” confirmed Daisy. “In fact I think I’ll arrange a marriage. Come over often, Nick, and I’ll sort of—oh—fling you together. You know—lock you up accidentally in linen closets and push you out to sea in a boat, and all that sort of thing—”\r\n",
      "\n",
      "\r\n",
      "“Good night,” called Miss Baker from the stairs. “I haven’t heard a word.”\r\n",
      "\n",
      "\r\n",
      "“She’s a nice girl,” said Tom after a moment. “They oughtn’t to let her run around the country this way.”\r\n",
      "\n",
      "\r\n",
      "“Who oughtn’t to?” inquired Daisy coldly.\r\n",
      "\n",
      "\r\n",
      "“Her family.”\r\n",
      "\n",
      "\r\n",
      "“\n"
     ]
    }
   ],
   "source": [
    "# Creating a BeautifulSoup object from the HTML\n",
    "soup = BeautifulSoup(html, \"html.parser\")\n",
    "\n",
    "# Getting the text out of the soup\n",
    "text = soup.get_text()\n",
    "\n",
    "# Printing out text between characters 32000 and 34000\n",
    "print(text[32000:34000])"
   ]
  },
  {
   "cell_type": "markdown",
   "metadata": {},
   "source": [
    "#4. Extract the words\n",
    "\n",
    "We now have the text of the novel! There is some unwanted stuff at the start and some unwanted stuff at the end. We could remove it, but this content is so much smaller in amount than the text of The Great Gatsby that, to a first approximation, it is okay to leave it in.\n",
    "\n",
    "Now that we have the text of interest, it's time to count how many times each word appears, and for this we'll use nltk – the Natural Language Toolkit. We'll start by tokenizing the text, that is, remove everything that isn't a word (whitespace, punctuation, etc.) and then split the text into a list of words."
   ]
  },
  {
   "cell_type": "code",
   "execution_count": 20,
   "metadata": {},
   "outputs": [
    {
     "data": {
      "text/plain": [
       "['pg', 'header', 'div', 'pg', 'footer', 'div', 'all', 'initial']"
      ]
     },
     "execution_count": 20,
     "metadata": {},
     "output_type": "execute_result"
    }
   ],
   "source": [
    "# Creating a tokenizer\n",
    "tokenizer = nltk.tokenize.RegexpTokenizer('\\w+')\n",
    "\n",
    "# Tokenizing the text\n",
    "tokens = tokenizer.tokenize(text)\n",
    "\n",
    "# Printing out the first 8 words / tokens \n",
    "tokens[0:8]"
   ]
  },
  {
   "cell_type": "markdown",
   "metadata": {},
   "source": [
    "#5. Make the words lowercase\n",
    "OK! We're nearly there. Note that in the above 'Or' has a capital 'O' and that in other places it may not, but both 'Or' and 'or' should be counted as the same word. For this reason, we should build a list of all words in The Great Gatsby in which all capital letters have been made lower case."
   ]
  },
  {
   "cell_type": "code",
   "execution_count": 21,
   "metadata": {},
   "outputs": [
    {
     "data": {
      "text/plain": [
       "['pg', 'header', 'div', 'pg', 'footer', 'div', 'all', 'initial']"
      ]
     },
     "execution_count": 21,
     "metadata": {},
     "output_type": "execute_result"
    }
   ],
   "source": [
    "# Create a list called words containing all tokens transformed to lower-case\n",
    "words = [token.lower() for token in tokens]\n",
    "\n",
    "# Printing out the first 8 words / tokens \n",
    "words[:8]"
   ]
  },
  {
   "cell_type": "markdown",
   "metadata": {},
   "source": [
    "#6. Load in stop words\n",
    "It is common practice to remove words that appear a lot in the English language such as 'the', 'of' and 'a' because they're not so interesting. Such words are known as stop words. The package nltk includes a good list of stop words in English that we can use."
   ]
  },
  {
   "cell_type": "code",
   "execution_count": 22,
   "metadata": {},
   "outputs": [
    {
     "data": {
      "text/plain": [
       "['i',\n",
       " 'me',\n",
       " 'my',\n",
       " 'myself',\n",
       " 'we',\n",
       " 'our',\n",
       " 'ours',\n",
       " 'ourselves',\n",
       " 'you',\n",
       " \"you're\",\n",
       " \"you've\",\n",
       " \"you'll\",\n",
       " \"you'd\",\n",
       " 'your',\n",
       " 'yours']"
      ]
     },
     "execution_count": 22,
     "metadata": {},
     "output_type": "execute_result"
    }
   ],
   "source": [
    "# Getting the English stop words from nltk\n",
    "sw = nltk.corpus.stopwords.words('english')\n",
    "\n",
    "# Printing out the first fifteen stop words\n",
    "sw[:15]"
   ]
  },
  {
   "cell_type": "markdown",
   "metadata": {},
   "source": [
    "#7. Remove stop words in The Great Gatsby\n",
    "We now want to create a new list with all words in The Great Gatsby, except those that are stop words (that is, those words listed in sw)."
   ]
  },
  {
   "cell_type": "code",
   "execution_count": 23,
   "metadata": {},
   "outputs": [
    {
     "data": {
      "text/plain": [
       "['pg',\n",
       " 'header',\n",
       " 'div',\n",
       " 'pg',\n",
       " 'footer',\n",
       " 'div',\n",
       " 'initial',\n",
       " 'display',\n",
       " 'block',\n",
       " 'margin',\n",
       " 'top',\n",
       " '1em',\n",
       " 'margin',\n",
       " 'bottom',\n",
       " '1em']"
      ]
     },
     "execution_count": 23,
     "metadata": {},
     "output_type": "execute_result"
    }
   ],
   "source": [
    "# Create a list words_ns containing all words that are in words but not in sw\n",
    "words_ns = [word for word in words if word not in sw]\n",
    "\n",
    "# Printing the first 15 words_ns to check that  stop words are gone\n",
    "words_ns[:15]"
   ]
  },
  {
   "cell_type": "markdown",
   "metadata": {},
   "source": [
    "#8. We have the answer\n",
    "Our original question was:\n",
    "\n",
    "What are the most frequent words in F. Scott Fitzgerald's novel The Great Gatsby and how often do they occur?\n",
    "\n",
    "We are now ready to answer that! Let's answer this question using the Counter class we imported earlier."
   ]
  },
  {
   "cell_type": "code",
   "execution_count": 24,
   "metadata": {},
   "outputs": [
    {
     "name": "stdout",
     "output_type": "stream",
     "text": [
      "[('gatsby', 268), ('said', 235), ('tom', 191), ('daisy', 186), ('one', 154), ('like', 122), ('man', 114), ('back', 109), ('came', 108), ('little', 103)]\n"
     ]
    }
   ],
   "source": [
    "# Initialize a Counter object from our processed list of words\n",
    "count = Counter(words_ns)\n",
    "\n",
    "# Store 10 most common words and their counts as top_ten\n",
    "top_ten = count.most_common(10)\n",
    "\n",
    "# Print the top ten words and their counts\n",
    "print(top_ten)"
   ]
  },
  {
   "cell_type": "markdown",
   "metadata": {},
   "source": [
    "#9. The most common word\n",
    "Nice! Using our variable top_ten, we now have an answer to our original question.\n",
    "\n",
    "The natural language processing skills we used in this notebook are also applicable to much of the data that Data Scientists encounter as the vast proportion of the world's data is unstructured data and includes a great deal of text.\n",
    "\n",
    "So, what word turned out to (not surprisingly) be the most common word in The Great Gatsby?"
   ]
  },
  {
   "cell_type": "code",
   "execution_count": 25,
   "metadata": {},
   "outputs": [
    {
     "name": "stdout",
     "output_type": "stream",
     "text": [
      "gatsby\n"
     ]
    }
   ],
   "source": [
    "# What's the most common word in The Great Gatsby?\n",
    "most_common_word = 'gatsby'\n",
    "print(most_common_word)"
   ]
  },
  {
   "cell_type": "code",
   "execution_count": null,
   "metadata": {
    "collapsed": true
   },
   "outputs": [],
   "source": []
  }
 ],
 "metadata": {
  "kernelspec": {
   "display_name": "Python 3",
   "language": "python",
   "name": "python3"
  },
  "language_info": {
   "codemirror_mode": {
    "name": "ipython",
    "version": 3
   },
   "file_extension": ".py",
   "mimetype": "text/x-python",
   "name": "python",
   "nbconvert_exporter": "python",
   "pygments_lexer": "ipython3",
   "version": "3.6.7"
  }
 },
 "nbformat": 4,
 "nbformat_minor": 2
}
